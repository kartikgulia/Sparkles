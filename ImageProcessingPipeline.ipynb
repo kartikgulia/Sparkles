{
 "cells": [
  {
   "cell_type": "code",
   "execution_count": 3,
   "id": "abea02dc",
   "metadata": {},
   "outputs": [],
   "source": [
    "## Importing necassary libraries\n",
    "\n",
    "import numpy as np\n",
    "import matplotlib.pyplot as plt\n",
    "import seaborn as sb\n",
    "import random as rand\n",
    "import cv2\n",
    "import matplotlib.image as img"
   ]
  },
  {
   "cell_type": "code",
   "execution_count": 4,
   "id": "be5c155f",
   "metadata": {},
   "outputs": [],
   "source": [
    "## Parameter to change outputted password length\n",
    "\n",
    "password_length = 20"
   ]
  },
  {
   "cell_type": "code",
   "execution_count": 5,
   "id": "a52ca537",
   "metadata": {},
   "outputs": [],
   "source": [
    "# Reading raw lava lamp captures\n",
    "\n",
    "pic_1 = img.imread(\"pic1/t1.png\")\n",
    "pic_2 = img.imread(\"pic1/t2.png\")\n",
    "pic_3 = img.imread(\"pic1/t3.png\")\n",
    "pic_4 = img.imread(\"pic1/t4.png\")"
   ]
  },
  {
   "cell_type": "code",
   "execution_count": 6,
   "id": "e29a4836",
   "metadata": {},
   "outputs": [],
   "source": [
    "## Encoding movements of lava lamps\n",
    "\n",
    "def rgb2gray(rgb):\n",
    "    return np.dot(rgb[...,:3], [0.2989, 0.5870, 0.1140])\n",
    "\n",
    "# Converting to images gray scale\n",
    "g1 = rgb2gray(pic_1)\n",
    "g2 = rgb2gray(pic_2)\n",
    "g3 = rgb2gray(pic_3)\n",
    "g4 = rgb2gray(pic_4)\n",
    "# plt.imshow(g2, cmap=plt.get_cmap('gray'), vmin=0, vmax=1)\n",
    "\n",
    "# Determining movements over time period\n",
    "diff1 = cv2.absdiff(g2, g3)\n",
    "diff2 = cv2.absdiff(g1, g4)\n",
    "# plt.imshow(diff1, cmap=plt.get_cmap('gray'), vmin=0, vmax=1)\n",
    "\n",
    "# Combining movements into 3D tensor(3rd dimension is time)\n",
    "diff_max = np.dstack((diff1, diff2))"
   ]
  },
  {
   "cell_type": "code",
   "execution_count": 7,
   "id": "7292749b",
   "metadata": {},
   "outputs": [],
   "source": [
    "# Approximating data matrices with low-rank ones, while still preserving variance. \n",
    "# Used heavily in data mining to find features in higher order matrixes.\n",
    "# For our purposes, we transform the movement of lava lamps in 3D(x,y,time) into a single matrix for feature extraction.\n",
    "\n",
    "u, s, vh = np.linalg.svd(diff_max)"
   ]
  },
  {
   "cell_type": "code",
   "execution_count": 8,
   "id": "82bfcba9",
   "metadata": {},
   "outputs": [
    {
     "data": {
      "text/plain": [
       "<Axes: >"
      ]
     },
     "execution_count": 8,
     "metadata": {},
     "output_type": "execute_result"
    },
    {
     "data": {
      "image/png": "[encoded data removed]",
      "text/plain": [
       "<Figure size 640x480 with 2 Axes>"
      ]
     },
     "metadata": {},
     "output_type": "display_data"
    }
   ],
   "source": [
    "# Visualization of the latent matrix, not needed.\n",
    "\n",
    "sb.heatmap(s)"
   ]
  },
  {
   "cell_type": "code",
   "execution_count": 9,
   "id": "d4c6ace9",
   "metadata": {},
   "outputs": [],
   "source": [
    "# Reservoir Sampling Algorithim\n",
    "# Mathmatically proven to sample M points in an equal distribution from a given list/stream.\n",
    "\n",
    "def reservoir_sampling(stream, M):\n",
    "    sampled = [-1]*M\n",
    "    for i in range(len(stream)):\n",
    "        if(i < M): #Space avaliable\n",
    "            sampled[i] = stream[i]\n",
    "        else:\n",
    "            draw = rand.randint(0,i)\n",
    "            if(draw < M):\n",
    "                sampled[draw] = stream[i]\n",
    "    return sampled\n",
    "        "
   ]
  },
  {
   "cell_type": "code",
   "execution_count": 10,
   "id": "3b67ba74",
   "metadata": {},
   "outputs": [],
   "source": [
    "# String with all valid password characters, to get password.\n",
    "\n",
    "allChars = \"qwertyuiopasdfghjklzxcvbnmQWERTYUIOPASDFGHJKLZXCVBNM1234567890!@#$%^&*()=+\\<>/?\"\n",
    "shuffledAllChars = \"dE=Ahe\\jFfN2DB+x#$5qSyVmg/pUoP@sHQW(anCG&rzw^)J?k%KliZ<YcbvtX>9T!uRL6I014M8O37*\""
   ]
  },
  {
   "cell_type": "code",
   "execution_count": 11,
   "id": "e8145d5e",
   "metadata": {},
   "outputs": [
    {
     "name": "stdout",
     "output_type": "stream",
     "text": [
      "[10, 23, 31, 13, 23, 34, 20, 49, 30, 29, 17, 35, 8, 68, 15, 13, 18, 8, 39, 28]\n"
     ]
    }
   ],
   "source": [
    "# Sampling values from low-rank matrix, and turning them into index values.\n",
    "\n",
    "prestreamed = []\n",
    "for i in range(int(s.size/2)):\n",
    "    if(s[i][0] > 0):\n",
    "        prestreamed.append(int(s[i][0] * 1000) % len(shuffledAllChars))\n",
    "    if(s[i][1] > 0):\n",
    "        prestreamed.append(int(s[i][1] * 1000) % len(shuffledAllChars))\n",
    "    \n",
    "indexes = reservoir_sampling(prestreamed, password_length)\n",
    "print(indexes)"
   ]
  },
  {
   "cell_type": "code",
   "execution_count": 16,
   "id": "65528182",
   "metadata": {},
   "outputs": [],
   "source": [
    "# Index values will be used to select characters from 'shuffledAllChars' variable\n",
    "# and putting them into a password variable, which will then be outputted.  \n",
    "\n",
    "password = \"\"\n",
    "for i in range(len(indexes)):\n",
    "    password += (shuffledAllChars[indexes[i]])"
   ]
  },
  {
   "cell_type": "code",
   "execution_count": 19,
   "id": "31fd8525",
   "metadata": {},
   "outputs": [
    {
     "name": "stdout",
     "output_type": "stream",
     "text": [
      "True Random Password: NmsBmWS%@P$(F6xB5FGo\n"
     ]
    }
   ],
   "source": [
    "print(\"True Random Password:\", password)"
   ]
  }
 ],
 "metadata": {
  "kernelspec": {
   "display_name": "Python 3 (ipykernel)",
   "language": "python",
   "name": "python3"
  },
  "language_info": {
   "codemirror_mode": {
    "name": "ipython",
    "version": 3
   },
   "file_extension": ".py",
   "mimetype": "text/x-python",
   "name": "python",
   "nbconvert_exporter": "python",
   "pygments_lexer": "ipython3",
   "version": "3.9.18"
  }
 },
 "nbformat": 4,
 "nbformat_minor": 5
}
