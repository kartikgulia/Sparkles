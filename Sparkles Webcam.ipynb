{
 "cells": [
  {
   "cell_type": "code",
   "execution_count": 2,
   "id": "f215eeae",
   "metadata": {},
   "outputs": [
    {
     "name": "stdout",
     "output_type": "stream",
     "text": [
      "import\n",
      "1st\n"
     ]
    },
    {
     "name": "stderr",
     "output_type": "stream",
     "text": [
      "[ WARN:0] global ./modules/videoio/src/cap_gstreamer.cpp (616) isPipelinePlaying OpenCV | GStreamer warning: GStreamer: pipeline have not been created\n",
      "[ WARN:0] global ./modules/videoio/src/cap_v4l.cpp (890) open VIDEOIO(V4L2:/dev/video0): can't open camera by index\n"
     ]
    },
    {
     "name": "stdout",
     "output_type": "stream",
     "text": [
      "2nd\n",
      "3rd\n"
     ]
    },
    {
     "ename": "NameError",
     "evalue": "name 'ret' is not defined",
     "output_type": "error",
     "traceback": [
      "\u001b[0;31m---------------------------------------------------------------------------\u001b[0m",
      "\u001b[0;31mNameError\u001b[0m                                 Traceback (most recent call last)",
      "Input \u001b[0;32mIn [2]\u001b[0m, in \u001b[0;36m<cell line: 45>\u001b[0;34m()\u001b[0m\n\u001b[1;32m     41\u001b[0m     rval \u001b[38;5;241m=\u001b[39m \u001b[38;5;28;01mFalse\u001b[39;00m\n\u001b[1;32m     43\u001b[0m \u001b[38;5;28mprint\u001b[39m(\u001b[38;5;124m\"\u001b[39m\u001b[38;5;124m3rd\u001b[39m\u001b[38;5;124m\"\u001b[39m)\n\u001b[0;32m---> 45\u001b[0m \u001b[38;5;28;01mif\u001b[39;00m (\u001b[43mret\u001b[49m):      \n\u001b[1;32m     46\u001b[0m     outframe \u001b[38;5;241m=\u001b[39m hdmi_out\u001b[38;5;241m.\u001b[39mnewframe()\n\u001b[1;32m     47\u001b[0m     outframe[\u001b[38;5;241m0\u001b[39m:\u001b[38;5;241m480\u001b[39m,\u001b[38;5;241m0\u001b[39m:\u001b[38;5;241m640\u001b[39m,:] \u001b[38;5;241m=\u001b[39m frame_vga[\u001b[38;5;241m0\u001b[39m:\u001b[38;5;241m480\u001b[39m,\u001b[38;5;241m0\u001b[39m:\u001b[38;5;241m640\u001b[39m,:]\n",
      "\u001b[0;31mNameError\u001b[0m: name 'ret' is not defined"
     ]
    }
   ],
   "source": [
    "#EMEET Webcam with Microphone, 1080P HD 60FPS\n",
    "#webcam documentation: https://www.emeet.ai/C960/C960_User_Manual_en.pdf\n",
    "print(\"import\")\n",
    "import cv2\n",
    "\n",
    "print(\"1st\")\n",
    "from pynq.overlays.base import BaseOverlay\n",
    "from pynq.lib.video import *\n",
    "base = BaseOverlay(\"base.bit\")\n",
    "\n",
    "Mode = VideoMode(640,480,24)\n",
    "hdmi_out = base.video.hdmi_out\n",
    "hdmi_out.configure(Mode,PIXEL_BGR)\n",
    "hdmi_out.start()\n",
    "frame_out_w = 1920\n",
    "frame_out_h = 1080\n",
    "\n",
    "# camera (input) configuration\n",
    "frame_in_w = 640\n",
    "frame_in_h = 480\n",
    "\n",
    "import os\n",
    "os.environ[\"OPENCV_LOG_LEVEL\"]=\"SILENT\"\n",
    "# initialize camera from OpenCV\n",
    "import cv2\n",
    "# import cv2\n",
    "import numpy as np\n",
    "# import matplotlib.pyplot as plt\n",
    "import random as rand\n",
    "import matplotlib.image as img # used to get images\n",
    "\n",
    "webcam = cv2.VideoCapture(0)\n",
    "webcam.set(cv2.CAP_PROP_FRAME_WIDTH, frame_in_w);\n",
    "webcam.set(cv2.CAP_PROP_FRAME_HEIGHT, frame_in_h);\n",
    "\n",
    "img_counter = 0\n",
    "print(\"2nd\")\n",
    "if webcam.isOpened(): # try to get the first frame\n",
    "    rval, frame = webcam.read()\n",
    "else:\n",
    "    rval = False\n",
    "\n",
    "print(\"3rd\")\n",
    "\n",
    "if (ret):      \n",
    "    outframe = hdmi_out.newframe()\n",
    "    outframe[0:480,0:640,:] = frame_vga[0:480,0:640,:]\n",
    "    hdmi_out.writeframe(outframe)\n",
    "else:\n",
    "    raise RuntimeError(\"Failed to read from camera.\")    \n",
    "\n",
    "print(\"4nd\")\n",
    "\n",
    "while rval:\n",
    "    cv2.imshow(\"preview\", frame)\n",
    "    rval, frame = webcam.read()\n",
    "    key = cv2.waitKey(1)\n",
    "    if key % 256 == 27:\n",
    "        # ESC pressed\n",
    "        print(\"Escape hit, closing...\")\n",
    "        break\n",
    "    elif key % 256 == 32:\n",
    "        # SPACE pressed\n",
    "        img_name = \"opencv_frame_{}.png\".format(img_counter)\n",
    "        cv2.imwrite(img_name, frame)\n",
    "        print(\"{} written!\".format(img_name))\n",
    "        img_counter += 1\n",
    "\n",
    "cv2.destroyWindow(\"Webcam\")\n",
    "\n",
    "webcam.release()\n",
    "cv2.destroyAllWindows()"
   ]
  },
  {
   "cell_type": "code",
   "execution_count": null,
   "id": "48576e72",
   "metadata": {},
   "outputs": [],
   "source": []
  },
  {
   "cell_type": "code",
   "execution_count": null,
   "id": "6931a4c8",
   "metadata": {},
   "outputs": [],
   "source": []
  }
 ],
 "metadata": {
  "kernelspec": {
   "display_name": "Python 3 (ipykernel)",
   "language": "python",
   "name": "python3"
  },
  "language_info": {
   "codemirror_mode": {
    "name": "ipython",
    "version": 3
   },
   "file_extension": ".py",
   "mimetype": "text/x-python",
   "name": "python",
   "nbconvert_exporter": "python",
   "pygments_lexer": "ipython3",
   "version": "3.10.4"
  }
 },
 "nbformat": 4,
 "nbformat_minor": 5
}
